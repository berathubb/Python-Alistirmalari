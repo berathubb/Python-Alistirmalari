{
 "cells": [
  {
   "cell_type": "code",
   "execution_count": null,
   "id": "24a2de8d",
   "metadata": {},
   "outputs": [],
   "source": [
    "a = int(input(\"a:\"))\n",
    "b = int(input(\"b:\"))\n",
    "c = int(input(\"c:\"))\n",
    "\n",
    "delta = b**2 - 4*a*c\n",
    "\n",
    "x1 = (-b - delta ** 0.5) / (2*a)\n",
    "x2 = (-b + delta ** 0.5) / (2*a)\n",
    "\n",
    "print(\"Birinci Kök : {}\\nİkinci Kök :{}\\n\".format(x1,x2))\n"
   ]
  },
  {
   "cell_type": "code",
   "execution_count": null,
   "id": "ea5b9a20",
   "metadata": {},
   "outputs": [],
   "source": [
    "print(\"Oyuncu Kaydetme Programı :\")\n",
    "\n",
    "ad = input(\"Oyuncunun Adını Girin :\")\n",
    "soyad = input (\"Oyuncunun Soyadını Girin :\")\n",
    "takım = input (\"Oyuncunun Takımını Girin :\")\n",
    "bilgiler = [ad, soyad, takım]\n",
    "\n",
    "print(\"Bilgiler Kaydediliyor....\")\n",
    "\n",
    "print(\"Oyuncu Adı : {}\\nOyuncu Soyadı : {}\\nOyuncu Takımı : {}\\n\".format(bilgiler[0],bilgiler[1], bilgiler[2]))\n",
    "\n",
    "print(\"Bilgiler Kaydedildi...\")\n"
   ]
  },
  {
   "cell_type": "markdown",
   "id": "ea751824",
   "metadata": {},
   "source": []
  },
  {
   "cell_type": "code",
   "execution_count": null,
   "id": "242f3168",
   "metadata": {},
   "outputs": [],
   "source": [
    "sayı1 = int(input(\"Birinci Sayıyı Girin :\"))\n",
    "sayı2 = int(input(\"İkinci Sayıyı Girin :\"))\n",
    "sayı3 = int(input(\"Üçüncü Sayıyı Girin :\" ))\n",
    "\n",
    "sonuç = sayı1*sayı2*sayı3\n",
    "\n",
    "print(\"{} x {} x {} = {}'dır\".format(sayı1,sayı2,sayı3,sonuç))"
   ]
  },
  {
   "cell_type": "code",
   "execution_count": null,
   "id": "0bec41e9",
   "metadata": {},
   "outputs": [],
   "source": [
    "Boy = float(input(\"Boyunuzu Girin :\"))\n",
    "Kilo = int(input(\"Kilonuzu Girin :\"))\n",
    "\n",
    "print(\"Beden Kitle İndeksi:\",Kilo / (Boy ** 2))"
   ]
  },
  {
   "cell_type": "code",
   "execution_count": null,
   "id": "b96e7e95",
   "metadata": {},
   "outputs": [],
   "source": [
    "ad = input(\"Adınızı Girin :\")\n",
    "soyad = input(\"Soyadınızı Girin :\")\n",
    "numara = int(input(\"Numaranızı Girin :\"))\n",
    "\n",
    "print(\"{}\\n{}\\n{}\\n\".format(ad,soyad,numara))"
   ]
  },
  {
   "cell_type": "code",
   "execution_count": null,
   "id": "3cb81c38",
   "metadata": {},
   "outputs": [],
   "source": [
    "a = input(\"a:\")\n",
    "b = input(\"b:\")\n",
    "\n",
    "a,b = b,a\n",
    "\n",
    "print(\"Sonuç:\\n a: {} b:{}\\n\".format(a,b))\n"
   ]
  },
  {
   "cell_type": "code",
   "execution_count": null,
   "id": "16c50973",
   "metadata": {},
   "outputs": [],
   "source": [
    "a = int(input(\"a:\"))\n",
    "\n",
    "b = int(input(\"b:\"))\n",
    "\n",
    "c =  (a ** 2 + b ** 2) ** 0.5\n",
    "\n",
    "print(\"Hipotenüs: \",c)"
   ]
  },
  {
   "cell_type": "code",
   "execution_count": null,
   "id": "50c3558a",
   "metadata": {},
   "outputs": [],
   "source": [
    "yakan_miktar = float(input(\"Kilometrede Yakan Miktar :\"))\n",
    "kilometre = int(input(\"Kaç KM Yol Yaptı :\"))\n",
    "\n",
    "print(\"Tutar: {} tl\".format(yakan_miktar * kilometre))"
   ]
  },
  {
   "cell_type": "code",
   "execution_count": null,
   "id": "bb27016e",
   "metadata": {},
   "outputs": [],
   "source": []
  }
 ],
 "metadata": {
  "kernelspec": {
   "display_name": "Python 3 (ipykernel)",
   "language": "python",
   "name": "python3"
  },
  "language_info": {
   "codemirror_mode": {
    "name": "ipython",
    "version": 3
   },
   "file_extension": ".py",
   "mimetype": "text/x-python",
   "name": "python",
   "nbconvert_exporter": "python",
   "pygments_lexer": "ipython3",
   "version": "3.9.7"
  }
 },
 "nbformat": 4,
 "nbformat_minor": 5
}
